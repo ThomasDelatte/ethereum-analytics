{
 "cells": [
  {
   "cell_type": "code",
   "execution_count": 62,
   "metadata": {},
   "outputs": [],
   "source": [
    "from etherscan import Etherscan\n",
    "import os"
   ]
  },
  {
   "cell_type": "code",
   "execution_count": 9,
   "metadata": {},
   "outputs": [],
   "source": [
    "api_key = os.environ.get(\"ETHERSCAN_API_KEY\")\n",
    "eth = Etherscan(api_key) # key in quotation marks"
   ]
  },
  {
   "cell_type": "code",
   "execution_count": 11,
   "metadata": {},
   "outputs": [],
   "source": [
    "eth = Etherscan(\"UJZSE9DXM1T37JZQVNQYNSS9IT5JEPIBA7\") # key in quotation marks"
   ]
  },
  {
   "cell_type": "code",
   "execution_count": 12,
   "metadata": {},
   "outputs": [
    {
     "data": {
      "text/plain": [
       "'16087782870685282458'"
      ]
     },
     "execution_count": 12,
     "metadata": {},
     "output_type": "execute_result"
    }
   ],
   "source": [
    "eth.get_eth_balance(address=\"0x4dF5f3610e2471095a130D7d934D551f3ddE01ED\")"
   ]
  },
  {
   "cell_type": "code",
   "execution_count": 14,
   "metadata": {},
   "outputs": [],
   "source": [
    "import pandas as pd"
   ]
  },
  {
   "cell_type": "code",
   "execution_count": 15,
   "metadata": {},
   "outputs": [],
   "source": [
    "df = pd.read_csv(\"../data/raw/train_x_raw.csv\", )"
   ]
  },
  {
   "cell_type": "code",
   "execution_count": 19,
   "metadata": {},
   "outputs": [],
   "source": [
    "del df['Unnamed: 0']"
   ]
  },
  {
   "cell_type": "code",
   "execution_count": 21,
   "metadata": {},
   "outputs": [
    {
     "data": {
      "text/html": [
       "<div>\n",
       "<style scoped>\n",
       "    .dataframe tbody tr th:only-of-type {\n",
       "        vertical-align: middle;\n",
       "    }\n",
       "\n",
       "    .dataframe tbody tr th {\n",
       "        vertical-align: top;\n",
       "    }\n",
       "\n",
       "    .dataframe thead th {\n",
       "        text-align: right;\n",
       "    }\n",
       "</style>\n",
       "<table border=\"1\" class=\"dataframe\">\n",
       "  <thead>\n",
       "    <tr style=\"text-align: right;\">\n",
       "      <th></th>\n",
       "      <th>ethereum_address</th>\n",
       "      <th>ether_balance</th>\n",
       "      <th>unique_tokens</th>\n",
       "      <th>unique_transfers</th>\n",
       "    </tr>\n",
       "  </thead>\n",
       "  <tbody>\n",
       "    <tr>\n",
       "      <th>0</th>\n",
       "      <td>0x8d12a197cb00d4747a1fe03395095ce2a5cc6819</td>\n",
       "      <td>17959.840523</td>\n",
       "      <td>3935</td>\n",
       "      <td>117342</td>\n",
       "    </tr>\n",
       "    <tr>\n",
       "      <th>1</th>\n",
       "      <td>0x2a0c0dbecc7e4d658f48e01e3fa353f44050c208</td>\n",
       "      <td>19367.237137</td>\n",
       "      <td>1511</td>\n",
       "      <td>54180</td>\n",
       "    </tr>\n",
       "    <tr>\n",
       "      <th>2</th>\n",
       "      <td>0xfbb1b73c4f0bda4f67dca266ce6ef42f520fbb98</td>\n",
       "      <td>15640.918064</td>\n",
       "      <td>759</td>\n",
       "      <td>330486</td>\n",
       "    </tr>\n",
       "    <tr>\n",
       "      <th>3</th>\n",
       "      <td>0xa12431d0b9db640034b0cdfceef9cce161e62be4</td>\n",
       "      <td>1027.618377</td>\n",
       "      <td>734</td>\n",
       "      <td>10548</td>\n",
       "    </tr>\n",
       "    <tr>\n",
       "      <th>4</th>\n",
       "      <td>0x6262998ced04146fa42253a5c0af90ca02dfd2a3</td>\n",
       "      <td>112453.183254</td>\n",
       "      <td>78</td>\n",
       "      <td>11869</td>\n",
       "    </tr>\n",
       "  </tbody>\n",
       "</table>\n",
       "</div>"
      ],
      "text/plain": [
       "                             ethereum_address  ether_balance  unique_tokens  \\\n",
       "0  0x8d12a197cb00d4747a1fe03395095ce2a5cc6819   17959.840523           3935   \n",
       "1  0x2a0c0dbecc7e4d658f48e01e3fa353f44050c208   19367.237137           1511   \n",
       "2  0xfbb1b73c4f0bda4f67dca266ce6ef42f520fbb98   15640.918064            759   \n",
       "3  0xa12431d0b9db640034b0cdfceef9cce161e62be4    1027.618377            734   \n",
       "4  0x6262998ced04146fa42253a5c0af90ca02dfd2a3  112453.183254             78   \n",
       "\n",
       "   unique_transfers  \n",
       "0            117342  \n",
       "1             54180  \n",
       "2            330486  \n",
       "3             10548  \n",
       "4             11869  "
      ]
     },
     "execution_count": 21,
     "metadata": {},
     "output_type": "execute_result"
    }
   ],
   "source": [
    "df.head()"
   ]
  },
  {
   "cell_type": "code",
   "execution_count": 30,
   "metadata": {},
   "outputs": [],
   "source": [
    "df[\"internal_txs\"] = None"
   ]
  },
  {
   "cell_type": "code",
   "execution_count": 31,
   "metadata": {},
   "outputs": [
    {
     "data": {
      "text/html": [
       "<div>\n",
       "<style scoped>\n",
       "    .dataframe tbody tr th:only-of-type {\n",
       "        vertical-align: middle;\n",
       "    }\n",
       "\n",
       "    .dataframe tbody tr th {\n",
       "        vertical-align: top;\n",
       "    }\n",
       "\n",
       "    .dataframe thead th {\n",
       "        text-align: right;\n",
       "    }\n",
       "</style>\n",
       "<table border=\"1\" class=\"dataframe\">\n",
       "  <thead>\n",
       "    <tr style=\"text-align: right;\">\n",
       "      <th></th>\n",
       "      <th>ethereum_address</th>\n",
       "      <th>ether_balance</th>\n",
       "      <th>unique_tokens</th>\n",
       "      <th>unique_transfers</th>\n",
       "      <th>normal_txs</th>\n",
       "      <th>internal_txs</th>\n",
       "    </tr>\n",
       "  </thead>\n",
       "  <tbody>\n",
       "    <tr>\n",
       "      <th>0</th>\n",
       "      <td>0x8d12a197cb00d4747a1fe03395095ce2a5cc6819</td>\n",
       "      <td>17959.840523</td>\n",
       "      <td>3935</td>\n",
       "      <td>117342</td>\n",
       "      <td>None</td>\n",
       "      <td>None</td>\n",
       "    </tr>\n",
       "    <tr>\n",
       "      <th>1</th>\n",
       "      <td>0x2a0c0dbecc7e4d658f48e01e3fa353f44050c208</td>\n",
       "      <td>19367.237137</td>\n",
       "      <td>1511</td>\n",
       "      <td>54180</td>\n",
       "      <td>None</td>\n",
       "      <td>None</td>\n",
       "    </tr>\n",
       "    <tr>\n",
       "      <th>2</th>\n",
       "      <td>0xfbb1b73c4f0bda4f67dca266ce6ef42f520fbb98</td>\n",
       "      <td>15640.918064</td>\n",
       "      <td>759</td>\n",
       "      <td>330486</td>\n",
       "      <td>None</td>\n",
       "      <td>None</td>\n",
       "    </tr>\n",
       "    <tr>\n",
       "      <th>3</th>\n",
       "      <td>0xa12431d0b9db640034b0cdfceef9cce161e62be4</td>\n",
       "      <td>1027.618377</td>\n",
       "      <td>734</td>\n",
       "      <td>10548</td>\n",
       "      <td>None</td>\n",
       "      <td>None</td>\n",
       "    </tr>\n",
       "    <tr>\n",
       "      <th>4</th>\n",
       "      <td>0x6262998ced04146fa42253a5c0af90ca02dfd2a3</td>\n",
       "      <td>112453.183254</td>\n",
       "      <td>78</td>\n",
       "      <td>11869</td>\n",
       "      <td>None</td>\n",
       "      <td>None</td>\n",
       "    </tr>\n",
       "  </tbody>\n",
       "</table>\n",
       "</div>"
      ],
      "text/plain": [
       "                             ethereum_address  ether_balance  unique_tokens  \\\n",
       "0  0x8d12a197cb00d4747a1fe03395095ce2a5cc6819   17959.840523           3935   \n",
       "1  0x2a0c0dbecc7e4d658f48e01e3fa353f44050c208   19367.237137           1511   \n",
       "2  0xfbb1b73c4f0bda4f67dca266ce6ef42f520fbb98   15640.918064            759   \n",
       "3  0xa12431d0b9db640034b0cdfceef9cce161e62be4    1027.618377            734   \n",
       "4  0x6262998ced04146fa42253a5c0af90ca02dfd2a3  112453.183254             78   \n",
       "\n",
       "   unique_transfers normal_txs internal_txs  \n",
       "0            117342       None         None  \n",
       "1             54180       None         None  \n",
       "2            330486       None         None  \n",
       "3             10548       None         None  \n",
       "4             11869       None         None  "
      ]
     },
     "execution_count": 31,
     "metadata": {},
     "output_type": "execute_result"
    }
   ],
   "source": [
    "df.head()"
   ]
  },
  {
   "cell_type": "code",
   "execution_count": 53,
   "metadata": {},
   "outputs": [],
   "source": [
    "df_2 = df[0:10]"
   ]
  },
  {
   "cell_type": "code",
   "execution_count": 54,
   "metadata": {},
   "outputs": [
    {
     "data": {
      "text/html": [
       "<div>\n",
       "<style scoped>\n",
       "    .dataframe tbody tr th:only-of-type {\n",
       "        vertical-align: middle;\n",
       "    }\n",
       "\n",
       "    .dataframe tbody tr th {\n",
       "        vertical-align: top;\n",
       "    }\n",
       "\n",
       "    .dataframe thead th {\n",
       "        text-align: right;\n",
       "    }\n",
       "</style>\n",
       "<table border=\"1\" class=\"dataframe\">\n",
       "  <thead>\n",
       "    <tr style=\"text-align: right;\">\n",
       "      <th></th>\n",
       "      <th>ethereum_address</th>\n",
       "      <th>ether_balance</th>\n",
       "      <th>unique_tokens</th>\n",
       "      <th>unique_transfers</th>\n",
       "      <th>normal_txs</th>\n",
       "      <th>internal_txs</th>\n",
       "    </tr>\n",
       "  </thead>\n",
       "  <tbody>\n",
       "    <tr>\n",
       "      <th>0</th>\n",
       "      <td>0x8d12a197cb00d4747a1fe03395095ce2a5cc6819</td>\n",
       "      <td>17959.840523</td>\n",
       "      <td>3935</td>\n",
       "      <td>117342</td>\n",
       "      <td>None</td>\n",
       "      <td>None</td>\n",
       "    </tr>\n",
       "    <tr>\n",
       "      <th>1</th>\n",
       "      <td>0x2a0c0dbecc7e4d658f48e01e3fa353f44050c208</td>\n",
       "      <td>19367.237137</td>\n",
       "      <td>1511</td>\n",
       "      <td>54180</td>\n",
       "      <td>None</td>\n",
       "      <td>None</td>\n",
       "    </tr>\n",
       "    <tr>\n",
       "      <th>2</th>\n",
       "      <td>0xfbb1b73c4f0bda4f67dca266ce6ef42f520fbb98</td>\n",
       "      <td>15640.918064</td>\n",
       "      <td>759</td>\n",
       "      <td>330486</td>\n",
       "      <td>None</td>\n",
       "      <td>None</td>\n",
       "    </tr>\n",
       "    <tr>\n",
       "      <th>3</th>\n",
       "      <td>0xa12431d0b9db640034b0cdfceef9cce161e62be4</td>\n",
       "      <td>1027.618377</td>\n",
       "      <td>734</td>\n",
       "      <td>10548</td>\n",
       "      <td>None</td>\n",
       "      <td>None</td>\n",
       "    </tr>\n",
       "    <tr>\n",
       "      <th>4</th>\n",
       "      <td>0x6262998ced04146fa42253a5c0af90ca02dfd2a3</td>\n",
       "      <td>112453.183254</td>\n",
       "      <td>78</td>\n",
       "      <td>11869</td>\n",
       "      <td>None</td>\n",
       "      <td>None</td>\n",
       "    </tr>\n",
       "    <tr>\n",
       "      <th>5</th>\n",
       "      <td>0x564286362092d8e7936f0549571a803b203aaced</td>\n",
       "      <td>9952.863930</td>\n",
       "      <td>439</td>\n",
       "      <td>109404</td>\n",
       "      <td>None</td>\n",
       "      <td>None</td>\n",
       "    </tr>\n",
       "    <tr>\n",
       "      <th>6</th>\n",
       "      <td>0x6cc5f688a315f3dc28a7781717a9a798a59fda7b</td>\n",
       "      <td>1072.771789</td>\n",
       "      <td>697</td>\n",
       "      <td>472190</td>\n",
       "      <td>None</td>\n",
       "      <td>None</td>\n",
       "    </tr>\n",
       "    <tr>\n",
       "      <th>7</th>\n",
       "      <td>0xd551234ae421e3bcba99a0da6d736074f22192ff</td>\n",
       "      <td>22994.558050</td>\n",
       "      <td>468</td>\n",
       "      <td>105056</td>\n",
       "      <td>None</td>\n",
       "      <td>None</td>\n",
       "    </tr>\n",
       "    <tr>\n",
       "      <th>8</th>\n",
       "      <td>0x0681d8db095565fe8a346fa0277bffde9c0edbbf</td>\n",
       "      <td>23608.498088</td>\n",
       "      <td>488</td>\n",
       "      <td>105544</td>\n",
       "      <td>None</td>\n",
       "      <td>None</td>\n",
       "    </tr>\n",
       "    <tr>\n",
       "      <th>9</th>\n",
       "      <td>0xb0cf943cf94e7b6a2657d15af41c5e06c2bfea3d</td>\n",
       "      <td>2848.924301</td>\n",
       "      <td>181</td>\n",
       "      <td>5363</td>\n",
       "      <td>None</td>\n",
       "      <td>None</td>\n",
       "    </tr>\n",
       "  </tbody>\n",
       "</table>\n",
       "</div>"
      ],
      "text/plain": [
       "                             ethereum_address  ether_balance  unique_tokens  \\\n",
       "0  0x8d12a197cb00d4747a1fe03395095ce2a5cc6819   17959.840523           3935   \n",
       "1  0x2a0c0dbecc7e4d658f48e01e3fa353f44050c208   19367.237137           1511   \n",
       "2  0xfbb1b73c4f0bda4f67dca266ce6ef42f520fbb98   15640.918064            759   \n",
       "3  0xa12431d0b9db640034b0cdfceef9cce161e62be4    1027.618377            734   \n",
       "4  0x6262998ced04146fa42253a5c0af90ca02dfd2a3  112453.183254             78   \n",
       "5  0x564286362092d8e7936f0549571a803b203aaced    9952.863930            439   \n",
       "6  0x6cc5f688a315f3dc28a7781717a9a798a59fda7b    1072.771789            697   \n",
       "7  0xd551234ae421e3bcba99a0da6d736074f22192ff   22994.558050            468   \n",
       "8  0x0681d8db095565fe8a346fa0277bffde9c0edbbf   23608.498088            488   \n",
       "9  0xb0cf943cf94e7b6a2657d15af41c5e06c2bfea3d    2848.924301            181   \n",
       "\n",
       "   unique_transfers normal_txs internal_txs  \n",
       "0            117342       None         None  \n",
       "1             54180       None         None  \n",
       "2            330486       None         None  \n",
       "3             10548       None         None  \n",
       "4             11869       None         None  \n",
       "5            109404       None         None  \n",
       "6            472190       None         None  \n",
       "7            105056       None         None  \n",
       "8            105544       None         None  \n",
       "9              5363       None         None  "
      ]
     },
     "execution_count": 54,
     "metadata": {},
     "output_type": "execute_result"
    }
   ],
   "source": [
    "df_2.head(10)"
   ]
  },
  {
   "cell_type": "code",
   "execution_count": 55,
   "metadata": {},
   "outputs": [
    {
     "name": "stdout",
     "output_type": "stream",
     "text": [
      "0x8d12a197cb00d4747a1fe03395095ce2a5cc6819\n",
      "0x2a0c0dbecc7e4d658f48e01e3fa353f44050c208\n",
      "0xfbb1b73c4f0bda4f67dca266ce6ef42f520fbb98\n",
      "0xa12431d0b9db640034b0cdfceef9cce161e62be4\n",
      "0x6262998ced04146fa42253a5c0af90ca02dfd2a3\n",
      "0x564286362092d8e7936f0549571a803b203aaced\n",
      "0x6cc5f688a315f3dc28a7781717a9a798a59fda7b\n",
      "0xd551234ae421e3bcba99a0da6d736074f22192ff\n",
      "0x0681d8db095565fe8a346fa0277bffde9c0edbbf\n",
      "0xb0cf943cf94e7b6a2657d15af41c5e06c2bfea3d\n"
     ]
    }
   ],
   "source": [
    "for i, row in df_2.iterrows():\n",
    "    eth_address = row.ethereum_address\n",
    "    print(eth_address)\n",
    "    try:\n",
    "        internal_txs = eth.get_internal_txs_by_address(address=eth_address, startblock=0,\n",
    "        endblock=12153597, sort=\"asc\")\n",
    "    except:\n",
    "        continue\n",
    "    if internal_txs:\n",
    "        row[5] = internal_txs"
   ]
  },
  {
   "cell_type": "code",
   "execution_count": 56,
   "metadata": {},
   "outputs": [
    {
     "data": {
      "text/html": [
       "<div>\n",
       "<style scoped>\n",
       "    .dataframe tbody tr th:only-of-type {\n",
       "        vertical-align: middle;\n",
       "    }\n",
       "\n",
       "    .dataframe tbody tr th {\n",
       "        vertical-align: top;\n",
       "    }\n",
       "\n",
       "    .dataframe thead th {\n",
       "        text-align: right;\n",
       "    }\n",
       "</style>\n",
       "<table border=\"1\" class=\"dataframe\">\n",
       "  <thead>\n",
       "    <tr style=\"text-align: right;\">\n",
       "      <th></th>\n",
       "      <th>ethereum_address</th>\n",
       "      <th>ether_balance</th>\n",
       "      <th>unique_tokens</th>\n",
       "      <th>unique_transfers</th>\n",
       "      <th>normal_txs</th>\n",
       "      <th>internal_txs</th>\n",
       "    </tr>\n",
       "  </thead>\n",
       "  <tbody>\n",
       "    <tr>\n",
       "      <th>0</th>\n",
       "      <td>0x8d12a197cb00d4747a1fe03395095ce2a5cc6819</td>\n",
       "      <td>17959.840523</td>\n",
       "      <td>3935</td>\n",
       "      <td>117342</td>\n",
       "      <td>None</td>\n",
       "      <td>None</td>\n",
       "    </tr>\n",
       "    <tr>\n",
       "      <th>1</th>\n",
       "      <td>0x2a0c0dbecc7e4d658f48e01e3fa353f44050c208</td>\n",
       "      <td>19367.237137</td>\n",
       "      <td>1511</td>\n",
       "      <td>54180</td>\n",
       "      <td>None</td>\n",
       "      <td>None</td>\n",
       "    </tr>\n",
       "    <tr>\n",
       "      <th>2</th>\n",
       "      <td>0xfbb1b73c4f0bda4f67dca266ce6ef42f520fbb98</td>\n",
       "      <td>15640.918064</td>\n",
       "      <td>759</td>\n",
       "      <td>330486</td>\n",
       "      <td>None</td>\n",
       "      <td>None</td>\n",
       "    </tr>\n",
       "    <tr>\n",
       "      <th>3</th>\n",
       "      <td>0xa12431d0b9db640034b0cdfceef9cce161e62be4</td>\n",
       "      <td>1027.618377</td>\n",
       "      <td>734</td>\n",
       "      <td>10548</td>\n",
       "      <td>None</td>\n",
       "      <td>None</td>\n",
       "    </tr>\n",
       "    <tr>\n",
       "      <th>4</th>\n",
       "      <td>0x6262998ced04146fa42253a5c0af90ca02dfd2a3</td>\n",
       "      <td>112453.183254</td>\n",
       "      <td>78</td>\n",
       "      <td>11869</td>\n",
       "      <td>None</td>\n",
       "      <td>None</td>\n",
       "    </tr>\n",
       "    <tr>\n",
       "      <th>5</th>\n",
       "      <td>0x564286362092d8e7936f0549571a803b203aaced</td>\n",
       "      <td>9952.863930</td>\n",
       "      <td>439</td>\n",
       "      <td>109404</td>\n",
       "      <td>None</td>\n",
       "      <td>None</td>\n",
       "    </tr>\n",
       "    <tr>\n",
       "      <th>6</th>\n",
       "      <td>0x6cc5f688a315f3dc28a7781717a9a798a59fda7b</td>\n",
       "      <td>1072.771789</td>\n",
       "      <td>697</td>\n",
       "      <td>472190</td>\n",
       "      <td>None</td>\n",
       "      <td>None</td>\n",
       "    </tr>\n",
       "    <tr>\n",
       "      <th>7</th>\n",
       "      <td>0xd551234ae421e3bcba99a0da6d736074f22192ff</td>\n",
       "      <td>22994.558050</td>\n",
       "      <td>468</td>\n",
       "      <td>105056</td>\n",
       "      <td>None</td>\n",
       "      <td>None</td>\n",
       "    </tr>\n",
       "    <tr>\n",
       "      <th>8</th>\n",
       "      <td>0x0681d8db095565fe8a346fa0277bffde9c0edbbf</td>\n",
       "      <td>23608.498088</td>\n",
       "      <td>488</td>\n",
       "      <td>105544</td>\n",
       "      <td>None</td>\n",
       "      <td>None</td>\n",
       "    </tr>\n",
       "    <tr>\n",
       "      <th>9</th>\n",
       "      <td>0xb0cf943cf94e7b6a2657d15af41c5e06c2bfea3d</td>\n",
       "      <td>2848.924301</td>\n",
       "      <td>181</td>\n",
       "      <td>5363</td>\n",
       "      <td>None</td>\n",
       "      <td>None</td>\n",
       "    </tr>\n",
       "  </tbody>\n",
       "</table>\n",
       "</div>"
      ],
      "text/plain": [
       "                             ethereum_address  ether_balance  unique_tokens  \\\n",
       "0  0x8d12a197cb00d4747a1fe03395095ce2a5cc6819   17959.840523           3935   \n",
       "1  0x2a0c0dbecc7e4d658f48e01e3fa353f44050c208   19367.237137           1511   \n",
       "2  0xfbb1b73c4f0bda4f67dca266ce6ef42f520fbb98   15640.918064            759   \n",
       "3  0xa12431d0b9db640034b0cdfceef9cce161e62be4    1027.618377            734   \n",
       "4  0x6262998ced04146fa42253a5c0af90ca02dfd2a3  112453.183254             78   \n",
       "5  0x564286362092d8e7936f0549571a803b203aaced    9952.863930            439   \n",
       "6  0x6cc5f688a315f3dc28a7781717a9a798a59fda7b    1072.771789            697   \n",
       "7  0xd551234ae421e3bcba99a0da6d736074f22192ff   22994.558050            468   \n",
       "8  0x0681d8db095565fe8a346fa0277bffde9c0edbbf   23608.498088            488   \n",
       "9  0xb0cf943cf94e7b6a2657d15af41c5e06c2bfea3d    2848.924301            181   \n",
       "\n",
       "   unique_transfers normal_txs internal_txs  \n",
       "0            117342       None         None  \n",
       "1             54180       None         None  \n",
       "2            330486       None         None  \n",
       "3             10548       None         None  \n",
       "4             11869       None         None  \n",
       "5            109404       None         None  \n",
       "6            472190       None         None  \n",
       "7            105056       None         None  \n",
       "8            105544       None         None  \n",
       "9              5363       None         None  "
      ]
     },
     "execution_count": 56,
     "metadata": {},
     "output_type": "execute_result"
    }
   ],
   "source": [
    "df_2.head(10)"
   ]
  },
  {
   "cell_type": "code",
   "execution_count": 77,
   "metadata": {},
   "outputs": [],
   "source": [
    "blocks = eth.get_mined_blocks_by_address(address=\"0x2a0eee948fbe9bd4b661adedba57425f753ea0f6\")"
   ]
  },
  {
   "cell_type": "code",
   "execution_count": 78,
   "metadata": {},
   "outputs": [
    {
     "data": {
      "text/plain": [
       "5154"
      ]
     },
     "execution_count": 78,
     "metadata": {},
     "output_type": "execute_result"
    }
   ],
   "source": [
    "len(blocks)"
   ]
  },
  {
   "cell_type": "code",
   "execution_count": 74,
   "metadata": {},
   "outputs": [
    {
     "ename": "AssertionError",
     "evalue": "None -- Unknown Exception",
     "output_type": "error",
     "traceback": [
      "\u001b[0;31m---------------------------------------------------------------------------\u001b[0m",
      "\u001b[0;31mAssertionError\u001b[0m                            Traceback (most recent call last)",
      "\u001b[0;32m<ipython-input-74-d5c333a6582a>\u001b[0m in \u001b[0;36m<module>\u001b[0;34m\u001b[0m\n\u001b[0;32m----> 1\u001b[0;31m \u001b[0mlen\u001b[0m\u001b[0;34m(\u001b[0m\u001b[0meth\u001b[0m\u001b[0;34m.\u001b[0m\u001b[0mget_mined_blocks_by_address\u001b[0m\u001b[0;34m(\u001b[0m\u001b[0maddress\u001b[0m\u001b[0;34m=\u001b[0m\u001b[0;34m\"0x52bc44d5378309ee2abf1539bf71de1b7d7be3b5\"\u001b[0m\u001b[0;34m)\u001b[0m\u001b[0;34m)\u001b[0m\u001b[0;34m\u001b[0m\u001b[0;34m\u001b[0m\u001b[0m\n\u001b[0m",
      "\u001b[0;32m~/miniconda3/envs/ds/lib/python3.8/site-packages/etherscan/etherscan.py\u001b[0m in \u001b[0;36mwrapper\u001b[0;34m(*args, **kwargs)\u001b[0m\n\u001b[1;32m     31\u001b[0m             )\n\u001b[1;32m     32\u001b[0m             \u001b[0mr\u001b[0m \u001b[0;34m=\u001b[0m \u001b[0mrequests\u001b[0m\u001b[0;34m.\u001b[0m\u001b[0mget\u001b[0m\u001b[0;34m(\u001b[0m\u001b[0murl\u001b[0m\u001b[0;34m,\u001b[0m \u001b[0mheaders\u001b[0m\u001b[0;34m=\u001b[0m\u001b[0;34m{\u001b[0m\u001b[0;34m\"User-Agent\"\u001b[0m\u001b[0;34m:\u001b[0m \u001b[0;34m\"\"\u001b[0m\u001b[0;34m}\u001b[0m\u001b[0;34m)\u001b[0m\u001b[0;34m\u001b[0m\u001b[0;34m\u001b[0m\u001b[0m\n\u001b[0;32m---> 33\u001b[0;31m             \u001b[0;32mreturn\u001b[0m \u001b[0mparser\u001b[0m\u001b[0;34m.\u001b[0m\u001b[0mparse\u001b[0m\u001b[0;34m(\u001b[0m\u001b[0mr\u001b[0m\u001b[0;34m)\u001b[0m\u001b[0;34m\u001b[0m\u001b[0;34m\u001b[0m\u001b[0m\n\u001b[0m\u001b[1;32m     34\u001b[0m \u001b[0;34m\u001b[0m\u001b[0m\n\u001b[1;32m     35\u001b[0m         \u001b[0;32mreturn\u001b[0m \u001b[0mwrapper\u001b[0m\u001b[0;34m\u001b[0m\u001b[0;34m\u001b[0m\u001b[0m\n",
      "\u001b[0;32m~/miniconda3/envs/ds/lib/python3.8/site-packages/etherscan/utils/parsing.py\u001b[0m in \u001b[0;36mparse\u001b[0;34m(response)\u001b[0m\n\u001b[1;32m     10\u001b[0m             \u001b[0mstatus\u001b[0m \u001b[0;34m=\u001b[0m \u001b[0mbool\u001b[0m\u001b[0;34m(\u001b[0m\u001b[0mint\u001b[0m\u001b[0;34m(\u001b[0m\u001b[0mcontent\u001b[0m\u001b[0;34m[\u001b[0m\u001b[0;34m\"status\"\u001b[0m\u001b[0;34m]\u001b[0m\u001b[0;34m)\u001b[0m\u001b[0;34m)\u001b[0m\u001b[0;34m\u001b[0m\u001b[0;34m\u001b[0m\u001b[0m\n\u001b[1;32m     11\u001b[0m             \u001b[0mmessage\u001b[0m \u001b[0;34m=\u001b[0m \u001b[0mcontent\u001b[0m\u001b[0;34m[\u001b[0m\u001b[0;34m\"message\"\u001b[0m\u001b[0;34m]\u001b[0m\u001b[0;34m\u001b[0m\u001b[0;34m\u001b[0m\u001b[0m\n\u001b[0;32m---> 12\u001b[0;31m             \u001b[0;32massert\u001b[0m \u001b[0mstatus\u001b[0m\u001b[0;34m,\u001b[0m \u001b[0;34mf\"{result} -- {message}\"\u001b[0m\u001b[0;34m\u001b[0m\u001b[0;34m\u001b[0m\u001b[0m\n\u001b[0m\u001b[1;32m     13\u001b[0m         \u001b[0;32melse\u001b[0m\u001b[0;34m:\u001b[0m\u001b[0;34m\u001b[0m\u001b[0;34m\u001b[0m\u001b[0m\n\u001b[1;32m     14\u001b[0m             \u001b[0;31m# GETH or Parity proxy msg format\u001b[0m\u001b[0;34m\u001b[0m\u001b[0;34m\u001b[0m\u001b[0;34m\u001b[0m\u001b[0m\n",
      "\u001b[0;31mAssertionError\u001b[0m: None -- Unknown Exception"
     ]
    }
   ],
   "source": [
    "len(eth.get_mined_blocks_by_address(address=\"0x52bc44d5378309ee2abf1539bf71de1b7d7be3b5\"))"
   ]
  },
  {
   "cell_type": "code",
   "execution_count": 76,
   "metadata": {},
   "outputs": [
    {
     "data": {
      "text/plain": [
       "2"
      ]
     },
     "execution_count": 76,
     "metadata": {},
     "output_type": "execute_result"
    }
   ],
   "source": [
    "len([{'blockNumber': '12159037', 'timeStamp': '1617352655', 'blockReward': '4155132922940852273'}, {'blockNumber': '12158868', 'timeStamp': '1617350098', 'blockReward': '3908890904482112155'}])"
   ]
  },
  {
   "cell_type": "code",
   "execution_count": null,
   "metadata": {},
   "outputs": [],
   "source": []
  }
 ],
 "metadata": {
  "kernelspec": {
   "display_name": "Python 3",
   "language": "python",
   "name": "python3"
  },
  "language_info": {
   "codemirror_mode": {
    "name": "ipython",
    "version": 3
   },
   "file_extension": ".py",
   "mimetype": "text/x-python",
   "name": "python",
   "nbconvert_exporter": "python",
   "pygments_lexer": "ipython3",
   "version": "3.8.2"
  }
 },
 "nbformat": 4,
 "nbformat_minor": 4
}
