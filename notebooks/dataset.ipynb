{
 "cells": [
  {
   "cell_type": "code",
   "execution_count": 2,
   "metadata": {},
   "outputs": [],
   "source": [
    "import os\n",
    "os.environ['GOOGLE_APPLICATION_CREDENTIALS'] =\"/home/tdelatte/new-projects/ethereum-analytics/key/ethereum-analytics-309308-6c01508bc0b8.json\""
   ]
  },
  {
   "cell_type": "code",
   "execution_count": 3,
   "metadata": {},
   "outputs": [],
   "source": [
    "from google.cloud import bigquery\n",
    "client = bigquery.Client()"
   ]
  },
  {
   "cell_type": "code",
   "execution_count": 4,
   "metadata": {},
   "outputs": [],
   "source": [
    "import pandas as pd"
   ]
  },
  {
   "cell_type": "code",
   "execution_count": 5,
   "metadata": {},
   "outputs": [],
   "source": [
    "def load_data_from_bigquery(QUERY):\n",
    "    \n",
    "    query_job = client.query(QUERY) # API request\n",
    "    df = query_job.to_dataframe()\n",
    "    \n",
    "    return df"
   ]
  },
  {
   "cell_type": "code",
   "execution_count": 6,
   "metadata": {},
   "outputs": [],
   "source": [
    "QUERY = \"\"\"\n",
    "\n",
    "        WITH\n",
    "          ethereum_balance AS (\n",
    "          SELECT\n",
    "            address AS ethereum_address,\n",
    "            (eth_balance / POWER(10, 18)) AS eth_balance\n",
    "          FROM\n",
    "            `bigquery-public-data.crypto_ethereum.balances`\n",
    "          WHERE\n",
    "            (eth_balance / POWER(10, 18)) > 1\n",
    "          LIMIT\n",
    "            10000),\n",
    "          \n",
    "          top_tokens AS (\n",
    "          SELECT\n",
    "            token_address,\n",
    "            COUNT(1) AS transfer_count\n",
    "          FROM\n",
    "            `bigquery-public-data.ethereum_blockchain.token_transfers` AS token_transfers\n",
    "          GROUP BY\n",
    "            token_address\n",
    "          ORDER BY\n",
    "            transfer_count DESC\n",
    "          LIMIT\n",
    "            10000),\n",
    "         \n",
    "         token_balances AS (\n",
    "          WITH\n",
    "            double_entry_book AS (\n",
    "            SELECT\n",
    "              token_address,\n",
    "              to_address AS ethereum_address,\n",
    "              CAST(value AS float64) AS value,\n",
    "              block_timestamp,\n",
    "              transaction_hash\n",
    "            FROM\n",
    "              `bigquery-public-data.ethereum_blockchain.token_transfers`\n",
    "            UNION ALL\n",
    "            SELECT\n",
    "              token_address,\n",
    "              from_address AS ethereum_address,\n",
    "              -CAST(value AS float64) AS value,\n",
    "              block_timestamp,\n",
    "              transaction_hash\n",
    "            FROM\n",
    "              `bigquery-public-data.ethereum_blockchain.token_transfers` )\n",
    "          SELECT\n",
    "            a.ethereum_address,\n",
    "            b.token_address,\n",
    "            SUM(value) AS balance,\n",
    "            COUNT(DISTINCT transaction_hash) as unique_transfers\n",
    "          FROM\n",
    "            ethereum_balance a\n",
    "          JOIN\n",
    "            double_entry_book b\n",
    "          ON\n",
    "            a.ethereum_address = b.ethereum_address\n",
    "          JOIN\n",
    "            top_tokens c\n",
    "          ON\n",
    "            c.token_address = b.token_address\n",
    "          WHERE\n",
    "            a.ethereum_address != '0x0000000000000000000000000000000000000000'\n",
    "          GROUP BY\n",
    "            1,\n",
    "            2\n",
    "          HAVING\n",
    "            balance > 0 )\n",
    "            \n",
    "            \n",
    "        SELECT\n",
    "          ethereum_address,\n",
    "          MAX(eth_balance) AS ether_balance,\n",
    "          COUNT(DISTINCT token_address) AS unique_tokens,\n",
    "          MAX(unique_transfers) AS unique_transfers\n",
    "        FROM\n",
    "          ethereum_balance a\n",
    "        JOIN\n",
    "          token_balances b\n",
    "        USING\n",
    "          (ethereum_address)\n",
    "        GROUP BY\n",
    "          1\n",
    "\n",
    "    \"\"\""
   ]
  },
  {
   "cell_type": "code",
   "execution_count": null,
   "metadata": {},
   "outputs": [],
   "source": [
    "eth_dataset = load_data_from_bigquery(QUERY)"
   ]
  },
  {
   "cell_type": "code",
   "execution_count": null,
   "metadata": {},
   "outputs": [],
   "source": [
    "eth_dataset.head(10)"
   ]
  },
  {
   "cell_type": "code",
   "execution_count": null,
   "metadata": {},
   "outputs": [],
   "source": [
    "from etherscan import Etherscan\n",
    "api_key = os.environ.get(\"ETHERSCAN_API_KEY\")\n",
    "eth = Etherscan(api_key) # key in quotation marks"
   ]
  },
  {
   "cell_type": "code",
   "execution_count": null,
   "metadata": {},
   "outputs": [],
   "source": [
    "eth = Etherscan(\"UJZSE9DXM1T37JZQVNQYNSS9IT5JEPIBA7\") # key in quotation marks"
   ]
  },
  {
   "cell_type": "code",
   "execution_count": null,
   "metadata": {},
   "outputs": [],
   "source": [
    "eth_dataset[\"mined_blocks\"] = 0"
   ]
  },
  {
   "cell_type": "code",
   "execution_count": null,
   "metadata": {},
   "outputs": [],
   "source": [
    "eth_dataset.head()"
   ]
  },
  {
   "cell_type": "code",
   "execution_count": null,
   "metadata": {},
   "outputs": [],
   "source": [
    "dataset_sample = eth_dataset[0:10]"
   ]
  },
  {
   "cell_type": "code",
   "execution_count": null,
   "metadata": {},
   "outputs": [],
   "source": [
    "for i, row in dataset_samplet.iterrows():\n",
    "    dataset_sample = row.ethereum_address\n",
    "    try:\n",
    "        mined = len(eth.get_mined_blocks_by_address(address=eth_address))\n",
    "    except:\n",
    "        continue\n",
    "    if mined:\n",
    "        row[\"mined_blocks\"] += mined"
   ]
  },
  {
   "cell_type": "code",
   "execution_count": null,
   "metadata": {},
   "outputs": [],
   "source": [
    "labeled_dataset = pd.read_csv(\"../data/external/eth_addresses.csv\")"
   ]
  },
  {
   "cell_type": "code",
   "execution_count": null,
   "metadata": {},
   "outputs": [],
   "source": [
    "labeled_dataset = labeled_dataset[labeled_dataset.Entity != \"Entity\"]"
   ]
  },
  {
   "cell_type": "code",
   "execution_count": null,
   "metadata": {},
   "outputs": [],
   "source": [
    "labels.rename({'Address': 'ethereum_address'}, axis=1, inplace=True)"
   ]
  },
  {
   "cell_type": "code",
   "execution_count": null,
   "metadata": {},
   "outputs": [],
   "source": [
    "ethdataset[\"Label\"] = \"Unknown\""
   ]
  },
  {
   "cell_type": "code",
   "execution_count": null,
   "metadata": {},
   "outputs": [],
   "source": [
    "labeled_dataset = pd.merge(eth_dataset, labels)"
   ]
  },
  {
   "cell_type": "code",
   "execution_count": null,
   "metadata": {},
   "outputs": [],
   "source": [
    "labeled_dataset.Entity.value_counts()"
   ]
  },
  {
   "cell_type": "code",
   "execution_count": null,
   "metadata": {},
   "outputs": [],
   "source": [
    "labeled_dataset.head(20)"
   ]
  },
  {
   "cell_type": "code",
   "execution_count": null,
   "metadata": {},
   "outputs": [],
   "source": [
    "# Manually add crowdsourced labels from etherscan.\n",
    "# Cannot scrape data from Etherscan: CloudFare protection.\n",
    "\n"
   ]
  }
 ],
 "metadata": {
  "kernelspec": {
   "display_name": "Python 3",
   "language": "python",
   "name": "python3"
  },
  "language_info": {
   "codemirror_mode": {
    "name": "ipython",
    "version": 3
   },
   "file_extension": ".py",
   "mimetype": "text/x-python",
   "name": "python",
   "nbconvert_exporter": "python",
   "pygments_lexer": "ipython3",
   "version": "3.8.2"
  }
 },
 "nbformat": 4,
 "nbformat_minor": 4
}
