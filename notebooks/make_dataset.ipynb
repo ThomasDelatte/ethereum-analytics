{
 "cells": [
  {
   "cell_type": "code",
   "execution_count": 2,
   "metadata": {},
   "outputs": [],
   "source": [
    "import os\n",
    "os.environ['GOOGLE_APPLICATION_CREDENTIALS'] =\"/home/tdelatte/new-projects/ethereum-analytics/key/ethereum-analytics-309308-6c01508bc0b8.json\"\n",
    "\n",
    "from google.cloud import bigquery\n",
    "client = bigquery.Client()\n",
    "\n",
    "import pandas as pd\n",
    "import pandas_gbq"
   ]
  },
  {
   "cell_type": "code",
   "execution_count": 3,
   "metadata": {},
   "outputs": [],
   "source": [
    "query = f\"\"\"\n",
    "        WITH\n",
    "          -- current ethereum balance for 1000 non-zero balance addresses\n",
    "          ethereum_balance AS (\n",
    "          SELECT\n",
    "            address AS ethereum_address,\n",
    "            (eth_balance / POWER(10, 18)) AS eth_balance\n",
    "          FROM\n",
    "            `bigquery-public-data.crypto_ethereum.balances`\n",
    "          WHERE\n",
    "            (eth_balance / POWER(10, 18)) > 10\n",
    "          LIMIT\n",
    "            1000),\n",
    "          top_tokens AS (\n",
    "          SELECT\n",
    "            token_address,\n",
    "            COUNT(1) AS transfer_count\n",
    "          FROM\n",
    "            `bigquery-public-data.ethereum_blockchain.token_transfers` AS token_transfers\n",
    "          GROUP BY\n",
    "            token_address\n",
    "          ORDER BY\n",
    "            transfer_count DESC\n",
    "          LIMIT\n",
    "            1000 ),\n",
    "          token_balances AS (\n",
    "          WITH\n",
    "            double_entry_book AS (\n",
    "            SELECT\n",
    "              token_address,\n",
    "              to_address AS ethereum_address,\n",
    "              CAST(value AS float64) AS value,\n",
    "              block_timestamp,\n",
    "              transaction_hash\n",
    "            FROM\n",
    "              `bigquery-public-data.ethereum_blockchain.token_transfers`\n",
    "            UNION ALL\n",
    "            SELECT\n",
    "              token_address,\n",
    "              from_address AS ethereum_address,\n",
    "              -CAST(value AS float64) AS value,\n",
    "              block_timestamp,\n",
    "              transaction_hash\n",
    "            FROM\n",
    "              `bigquery-public-data.ethereum_blockchain.token_transfers` )\n",
    "          SELECT\n",
    "            a.ethereum_address,\n",
    "            b.token_address,\n",
    "            SUM(value) AS balance,\n",
    "            COUNT(DISTINCT transaction_hash) as unique_transfers\n",
    "          FROM\n",
    "            ethereum_balance a\n",
    "          JOIN\n",
    "            double_entry_book b\n",
    "          ON\n",
    "            a.ethereum_address = b.ethereum_address\n",
    "          JOIN\n",
    "            top_tokens c\n",
    "          ON\n",
    "            c.token_address = b.token_address\n",
    "          WHERE\n",
    "            a.ethereum_address != '0x0000000000000000000000000000000000000000'\n",
    "          GROUP BY\n",
    "            1,\n",
    "            2\n",
    "          HAVING\n",
    "            balance > 0 )\n",
    "        SELECT\n",
    "          ethereum_address,\n",
    "          MAX(eth_balance) AS ether_balance,\n",
    "          COUNT(DISTINCT token_address) AS unique_tokens,\n",
    "          MAX(unique_transfers) as unique_transfers\n",
    "        FROM\n",
    "          ethereum_balance a\n",
    "        JOIN\n",
    "          token_balances b\n",
    "        USING\n",
    "          (ethereum_address)\n",
    "        GROUP BY\n",
    "          1\n",
    "    \"\"\""
   ]
  },
  {
   "cell_type": "code",
   "execution_count": 15,
   "metadata": {},
   "outputs": [],
   "source": [
    "QUERY_2 = f\"\"\"\n",
    "\n",
    "\n",
    "        WITH\n",
    "          -- current ethereum balance for 1000 non-zero balance addresses\n",
    "          ethereum_balance AS (\n",
    "          SELECT\n",
    "            address AS ethereum_address,\n",
    "            (eth_balance / POWER(10, 18)) AS eth_balance\n",
    "          FROM\n",
    "            `bigquery-public-data.crypto_ethereum.balances`\n",
    "          WHERE\n",
    "            (eth_balance / POWER(10, 18)) > 1000\n",
    "          LIMIT\n",
    "            10000),\n",
    "          top_tokens AS (\n",
    "          SELECT\n",
    "            token_address,\n",
    "            COUNT(1) AS transfer_count\n",
    "          FROM\n",
    "            `bigquery-public-data.ethereum_blockchain.token_transfers` AS token_transfers\n",
    "          GROUP BY\n",
    "            token_address\n",
    "          ORDER BY\n",
    "            transfer_count DESC\n",
    "          LIMIT\n",
    "            10000 ),\n",
    "          token_balances AS (\n",
    "          WITH\n",
    "            double_entry_book AS (\n",
    "            SELECT\n",
    "              token_address,\n",
    "              to_address AS ethereum_address,\n",
    "              CAST(value AS float64) AS value,\n",
    "              block_timestamp,\n",
    "              transaction_hash\n",
    "            FROM\n",
    "              `bigquery-public-data.ethereum_blockchain.token_transfers`\n",
    "            UNION ALL\n",
    "            SELECT\n",
    "              token_address,\n",
    "              from_address AS ethereum_address,\n",
    "              -CAST(value AS float64) AS value,\n",
    "              block_timestamp,\n",
    "              transaction_hash\n",
    "            FROM\n",
    "              `bigquery-public-data.ethereum_blockchain.token_transfers` )\n",
    "          SELECT\n",
    "            a.ethereum_address,\n",
    "            b.token_address,\n",
    "            SUM(value) AS balance,\n",
    "            COUNT(DISTINCT transaction_hash) as unique_transfers\n",
    "          FROM\n",
    "            ethereum_balance a\n",
    "          JOIN\n",
    "            double_entry_book b\n",
    "          ON\n",
    "            a.ethereum_address = b.ethereum_address\n",
    "          JOIN\n",
    "            top_tokens c\n",
    "          ON\n",
    "            c.token_address = b.token_address\n",
    "          WHERE\n",
    "            a.ethereum_address != '0x0000000000000000000000000000000000000000'\n",
    "          GROUP BY\n",
    "            1,\n",
    "            2\n",
    "          HAVING\n",
    "            balance > 0 )\n",
    "        SELECT\n",
    "          ethereum_address,\n",
    "          MAX(eth_balance) AS ether_balance,\n",
    "          COUNT(DISTINCT token_address) AS unique_tokens,\n",
    "          MAX(unique_transfers) as unique_transfers\n",
    "        FROM\n",
    "          ethereum_balance a\n",
    "        JOIN\n",
    "          token_balances b\n",
    "        USING\n",
    "          (ethereum_address)\n",
    "        GROUP BY\n",
    "          1\n",
    "\n",
    "    \"\"\""
   ]
  },
  {
   "cell_type": "code",
   "execution_count": 16,
   "metadata": {},
   "outputs": [],
   "source": [
    "def load_data_from_bigquery(query):\n",
    "    \n",
    "    query_job = client.query(query) # API request\n",
    "    df = query_job.to_dataframe()\n",
    "    \n",
    "    return df"
   ]
  },
  {
   "cell_type": "code",
   "execution_count": 17,
   "metadata": {},
   "outputs": [],
   "source": [
    "train_x_raw = load_data_from_bigquery(QUERY_2)"
   ]
  },
  {
   "cell_type": "code",
   "execution_count": 18,
   "metadata": {},
   "outputs": [
    {
     "data": {
      "text/plain": [
       "(4330, 4)"
      ]
     },
     "execution_count": 18,
     "metadata": {},
     "output_type": "execute_result"
    }
   ],
   "source": [
    "train_x_raw.shape"
   ]
  },
  {
   "cell_type": "code",
   "execution_count": 24,
   "metadata": {},
   "outputs": [],
   "source": [
    "train_x_raw.to_csv(\"../data/raw/train_x_raw.csv\")"
   ]
  },
  {
   "cell_type": "code",
   "execution_count": null,
   "metadata": {},
   "outputs": [],
   "source": [
    "QUERY_tx_count = ''' SELECT contracts.address, COUNT(1) AS tx_count\n",
    "            FROM `bigquery-public-data.crypto_ethereum.contracts` AS contracts\n",
    "            JOIN `bigquery-public-data.crypto_ethereum.transactions` AS transactions ON (transactions.to_address = contracts.address)\n",
    "            GROUP BY contracts.address\n",
    "            ORDER BY tx_count DESC\n",
    "            LIMIT 10 '''"
   ]
  },
  {
   "cell_type": "code",
   "execution_count": 12,
   "metadata": {},
   "outputs": [
    {
     "ename": "NameError",
     "evalue": "name 'service_account' is not defined",
     "output_type": "error",
     "traceback": [
      "\u001b[0;31m---------------------------------------------------------------------------\u001b[0m",
      "\u001b[0;31mNameError\u001b[0m                                 Traceback (most recent call last)",
      "\u001b[0;32m<ipython-input-12-ebe8cb6622e7>\u001b[0m in \u001b[0;36m<module>\u001b[0;34m\u001b[0m\n\u001b[1;32m      3\u001b[0m \u001b[0mdata_location\u001b[0m \u001b[0;34m=\u001b[0m \u001b[0;34m\"/home/tdelatte/new-projects/ethereum-analytics/key/ethereum-analytics-309308-6c01508bc0b8.json\"\u001b[0m\u001b[0;34m\u001b[0m\u001b[0;34m\u001b[0m\u001b[0m\n\u001b[1;32m      4\u001b[0m \u001b[0mservice_account_info\u001b[0m \u001b[0;34m=\u001b[0m \u001b[0mpd\u001b[0m\u001b[0;34m.\u001b[0m\u001b[0mread_json\u001b[0m\u001b[0;34m(\u001b[0m\u001b[0mdata_location\u001b[0m\u001b[0;34m,\u001b[0m \u001b[0mtyp\u001b[0m\u001b[0;34m=\u001b[0m\u001b[0;34m\"series\"\u001b[0m\u001b[0;34m)\u001b[0m\u001b[0;34m\u001b[0m\u001b[0;34m\u001b[0m\u001b[0m\n\u001b[0;32m----> 5\u001b[0;31m \u001b[0mcredentials\u001b[0m \u001b[0;34m=\u001b[0m \u001b[0mservice_account\u001b[0m\u001b[0;34m.\u001b[0m\u001b[0mCredentials\u001b[0m\u001b[0;34m.\u001b[0m\u001b[0mfrom_service_account_info\u001b[0m\u001b[0;34m(\u001b[0m\u001b[0mservice_account_info\u001b[0m\u001b[0;34m)\u001b[0m\u001b[0;34m\u001b[0m\u001b[0;34m\u001b[0m\u001b[0m\n\u001b[0m",
      "\u001b[0;31mNameError\u001b[0m: name 'service_account' is not defined"
     ]
    }
   ],
   "source": [
    "# GCP - BigQuery\n",
    "# load the service account credentials \n",
    "data_location = \"/home/tdelatte/new-projects/ethereum-analytics/key/ethereum-analytics-309308-6c01508bc0b8.json\"\n",
    "service_account_info = pd.read_json(data_location, typ=\"series\") \n",
    "credentials = service_account.Credentials.from_service_account_info(service_account_info)"
   ]
  },
  {
   "cell_type": "code",
   "execution_count": null,
   "metadata": {},
   "outputs": [],
   "source": [
    "train_x_raw = feature_extraction_training_instances(num_instances=10000)\n",
    "train_x_raw.head()"
   ]
  },
  {
   "cell_type": "code",
   "execution_count": null,
   "metadata": {},
   "outputs": [],
   "source": [
    "def feature_extraction_training_instances(num_instances):\n",
    "\n",
    "    # Pandas GBQ, wrapper\n",
    "    # module provides a wrapper for Google’s BigQuery analytics web service\n",
    "\n",
    "    address_features = pandas_gbq.read_gbq(query, credentials=credentials)\n",
    "    return address_features"
   ]
  },
  {
   "cell_type": "code",
   "execution_count": null,
   "metadata": {},
   "outputs": [],
   "source": []
  }
 ],
 "metadata": {
  "kernelspec": {
   "display_name": "Python 3",
   "language": "python",
   "name": "python3"
  },
  "language_info": {
   "codemirror_mode": {
    "name": "ipython",
    "version": 3
   },
   "file_extension": ".py",
   "mimetype": "text/x-python",
   "name": "python",
   "nbconvert_exporter": "python",
   "pygments_lexer": "ipython3",
   "version": "3.8.2"
  }
 },
 "nbformat": 4,
 "nbformat_minor": 4
}
